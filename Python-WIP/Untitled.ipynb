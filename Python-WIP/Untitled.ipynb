{
 "cells": [
  {
   "cell_type": "code",
   "execution_count": 7,
   "metadata": {},
   "outputs": [],
   "source": [
    "#!/usr/bin/env python\n",
    "# coding: utf-8\n",
    "\n",
    "from flask import Flask, Response\n",
    "import requests\n",
    "app = Flask(__name__)\n",
    "\n",
    "@app.route('/', defaults={'path': ''})\n",
    "@app.route('/<path:path>')\n",
    "def catch_all(path):\n",
    "    r = requests.get(\"https://fantasy.premierleague.com/api/leagues-classic/76993/standings/?page_new_entries=1&page_standings=1&phase=1\")\n",
    "    return r.json()"
   ]
  },
  {
   "cell_type": "code",
   "execution_count": 10,
   "metadata": {},
   "outputs": [],
   "source": [
    "    r = requests.get(\"https://fantasy.premierleague.com/api/leagues-classic/76993/standings/?page_new_entries=1&page_standings=1&phase=1\")\n"
   ]
  },
  {
   "cell_type": "code",
   "execution_count": 11,
   "metadata": {},
   "outputs": [
    {
     "data": {
      "text/plain": [
       "{'Server': 'nginx/1.13.5', 'Content-Type': 'application/json', 'Allow': 'GET, HEAD, OPTIONS', 'X-Frame-Options': 'SAMEORIGIN', 'Cache-Control': 'max-age=0, no-cache, no-store, must-revalidate', 'Edge-Control': 'max-age=300', 'Content-Encoding': 'gzip', 'Via': '1.1 google, 1.1 varnish, 1.1 varnish', 'Content-Length': '1259', 'Accept-Ranges': 'bytes', 'Date': 'Sat, 24 Aug 2019 00:56:06 GMT', 'Age': '1729', 'Connection': 'keep-alive', 'X-Served-By': 'cache-lhr6325-LHR, cache-lcy19223-LCY', 'X-Cache': 'HIT, MISS', 'X-Cache-Hits': '1, 0', 'X-Timer': 'S1566608167.976797,VS0,VE3', 'Vary': 'Accept-Encoding'}"
      ]
     },
     "execution_count": 11,
     "metadata": {},
     "output_type": "execute_result"
    }
   ],
   "source": [
    "r.headers"
   ]
  },
  {
   "cell_type": "code",
   "execution_count": 12,
   "metadata": {},
   "outputs": [
    {
     "data": {
      "text/plain": [
       "200"
      ]
     },
     "execution_count": 12,
     "metadata": {},
     "output_type": "execute_result"
    }
   ],
   "source": [
    "r.status_code"
   ]
  },
  {
   "cell_type": "code",
   "execution_count": 13,
   "metadata": {},
   "outputs": [
    {
     "data": {
      "text/plain": [
       "<Response [200]>"
      ]
     },
     "execution_count": 13,
     "metadata": {},
     "output_type": "execute_result"
    }
   ],
   "source": [
    "r"
   ]
  },
  {
   "cell_type": "code",
   "execution_count": 14,
   "metadata": {},
   "outputs": [
    {
     "data": {
      "text/plain": [
       "200"
      ]
     },
     "execution_count": 14,
     "metadata": {},
     "output_type": "execute_result"
    }
   ],
   "source": [
    "r.status_code"
   ]
  },
  {
   "cell_type": "code",
   "execution_count": 15,
   "metadata": {},
   "outputs": [
    {
     "data": {
      "text/plain": [
       "'{\"league\":{\"id\":76993,\"name\":\"TIL\",\"created\":\"2019-06-30T17:12:35.494706Z\",\"closed\":false,\"rank\":null,\"max_entries\":null,\"league_type\":\"x\",\"scoring\":\"c\",\"admin_entry\":333013,\"start_event\":1,\"code_privacy\":\"p\"},\"new_entries\":{\"has_next\":false,\"page\":1,\"results\":[{\"entry\":6337965,\"entry_name\":\"Tracker\",\"joined_time\":\"2019-08-23T14:09:50.119772Z\",\"player_first_name\":\"David\",\"player_last_name\":\"SM\"}]},\"standings\":{\"has_next\":false,\"page\":1,\"results\":[{\"id\":17191217,\"event_total\":7,\"player_name\":\"Ravi Mistry\",\"rank\":1,\"last_rank\":1,\"rank_sort\":1,\"total\":150,\"entry\":3025492,\"entry_name\":\"Flames ï¿½\"},{\"id\":1704907,\"event_total\":1,\"player_name\":\"Dan Raines\",\"rank\":2,\"last_rank\":2,\"rank_sort\":2,\"total\":137,\"entry\":331592,\"entry_name\":\"Just do your best\"},{\"id\":4024008,\"event_total\":2,\"player_name\":\"Paul Hunt\",\"rank\":3,\"last_rank\":3,\"rank_sort\":3,\"total\":129,\"entry\":768608,\"entry_name\":\"Spagessien Bolognese\"},{\"id\":1704906,\"event_total\":1,\"player_name\":\"Ian Baldwin\",\"rank\":4,\"last_rank\":4,\"rank_sort\":4,\"total\":128,\"entry\":1195,\"entry_name\":\"Cali-Fornals-cation\"},{\"id\":2018803,\"event_total\":1,\"player_name\":\"Kofi Bonsu\",\"rank\":5,\"last_rank\":5,\"rank_sort\":5,\"total\":126,\"entry\":393141,\"entry_name\":\"Childish Firmino\"},{\"id\":25119163,\"event_total\":0,\"player_name\":\"Peter Silvester\",\"rank\":6,\"last_rank\":6,\"rank_sort\":6,\"total\":116,\"entry\":4199216,\"entry_name\":\"Off You Pop FC\"},{\"id\":7721485,\"event_total\":3,\"player_name\":\"Tom Prowse\",\"rank\":7,\"last_rank\":7,\"rank_sort\":7,\"total\":115,\"entry\":1432276,\"entry_name\":\"Prowsey\\'s XI\"},{\"id\":22849065,\"event_total\":7,\"player_name\":\"Jack Parry\",\"rank\":7,\"last_rank\":7,\"rank_sort\":8,\"total\":115,\"entry\":3876122,\"entry_name\":\"dreamteam\"},{\"id\":7914303,\"event_total\":1,\"player_name\":\"Alex Simpson\",\"rank\":9,\"last_rank\":9,\"rank_sort\":9,\"total\":113,\"entry\":1465162,\"entry_name\":\"Dedham Park Juniors\"},{\"id\":34010705,\"event_total\":3,\"player_name\":\"Philip Mannering\",\"rank\":10,\"last_rank\":10,\"rank_sort\":10,\"total\":113,\"entry\":5431490,\"entry_name\":\"The-P-Man U\"},{\"id\":5698537,\"event_total\":2,\"player_name\":\"Timothy Ngwena\",\"rank\":11,\"last_rank\":11,\"rank_sort\":11,\"total\":108,\"entry\":1072176,\"entry_name\":\"TFN\"},{\"id\":26825882,\"event_total\":2,\"player_name\":\"ben ben\",\"rank\":12,\"last_rank\":12,\"rank_sort\":12,\"total\":104,\"entry\":4437668,\"entry_name\":\"Bennington Stanley\"},{\"id\":1704905,\"event_total\":6,\"player_name\":\"Andrew Pick\",\"rank\":13,\"last_rank\":13,\"rank_sort\":13,\"total\":101,\"entry\":333013,\"entry_name\":\"Pick 11\"},{\"id\":29030905,\"event_total\":0,\"player_name\":\"Ben Davis\",\"rank\":14,\"last_rank\":14,\"rank_sort\":14,\"total\":100,\"entry\":4759325,\"entry_name\":\"Benji-men\"},{\"id\":29674766,\"event_total\":1,\"player_name\":\"Fuad Ahmed\",\"rank\":15,\"last_rank\":15,\"rank_sort\":15,\"total\":98,\"entry\":4843261,\"entry_name\":\"LEANBOIs\"},{\"id\":28762865,\"event_total\":1,\"player_name\":\"Michael McFadden\",\"rank\":16,\"last_rank\":16,\"rank_sort\":16,\"total\":88,\"entry\":4720000,\"entry_name\":\"Willian Dollar Baby\"},{\"id\":19081743,\"event_total\":3,\"player_name\":\"Samuel Shurmer\",\"rank\":17,\"last_rank\":17,\"rank_sort\":17,\"total\":87,\"entry\":3322798,\"entry_name\":\"Rae Warriors\"},{\"id\":24819889,\"event_total\":0,\"player_name\":\"Joe Macari\",\"rank\":18,\"last_rank\":18,\"rank_sort\":18,\"total\":77,\"entry\":4157211,\"entry_name\":\"Macs Madmen\"},{\"id\":32796890,\"event_total\":0,\"player_name\":\"Peter Gamble-Beresford\",\"rank\":19,\"last_rank\":19,\"rank_sort\":19,\"total\":69,\"entry\":5265347,\"entry_name\":\"doinggoalsnthat\"},{\"id\":36986994,\"event_total\":0,\"player_name\":\"Alex Jones\",\"rank\":20,\"last_rank\":20,\"rank_sort\":20,\"total\":41,\"entry\":5884240,\"entry_name\":\"DANNY DYERS OUTLIERS\"}]}}'"
      ]
     },
     "execution_count": 15,
     "metadata": {},
     "output_type": "execute_result"
    }
   ],
   "source": [
    "r.text"
   ]
  },
  {
   "cell_type": "code",
   "execution_count": null,
   "metadata": {},
   "outputs": [],
   "source": []
  }
 ],
 "metadata": {
  "kernelspec": {
   "display_name": "Python 3",
   "language": "python",
   "name": "python3"
  },
  "language_info": {
   "codemirror_mode": {
    "name": "ipython",
    "version": 3
   },
   "file_extension": ".py",
   "mimetype": "text/x-python",
   "name": "python",
   "nbconvert_exporter": "python",
   "pygments_lexer": "ipython3",
   "version": "3.7.0"
  }
 },
 "nbformat": 4,
 "nbformat_minor": 2
}
